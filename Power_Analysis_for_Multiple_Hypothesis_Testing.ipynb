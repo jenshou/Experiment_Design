{
 "cells": [
  {
   "cell_type": "markdown",
   "metadata": {},
   "source": [
    "# Power Analysis for Multiple Hypothesis Testing\n",
    "When conducting statistical tests, there are some convoluted relationships between significance level, power, sample size, and so on. In this notebook we will go through how P-values are affected under different circumstances.  \n",
    "In the end, we will implement *Bonferroni Correction* and *Benjamin-Hochberg Procedure* for correcting P-values in multiple hypothesis testings."
   ]
  },
  {
   "cell_type": "markdown",
   "metadata": {},
   "source": [
    "## Permutation/ Randomization Tests\n",
    "Usually, hypothesis tests rely on central limit theory when calculating the rejection region for the test.   However, we don’t have to rely on these approximations and can in fact go about making decisions nonparametrically using permutation and randomization tests. Here, we’ll tackle implementation of randomization tests."
   ]
  },
  {
   "cell_type": "markdown",
   "metadata": {},
   "source": [
    "First we write a function which takes two samples (y11, . . . , y1n1 ) and (y21, . . . y2n2 ), the number of permutations B, and the alternative as input;  \n",
    "outputs a p-value for the difference of the means of the two samples, and the difference of standard deviation of the two samples.  "
   ]
  },
  {
   "cell_type": "code",
   "execution_count": 1,
   "metadata": {},
   "outputs": [],
   "source": [
    "import random\n",
    "import seaborn as sns\n",
    "import numpy as np\n",
    "import pandas as pd\n",
    "import matplotlib.pyplot as plt\n",
    "%matplotlib inline\n",
    "plt.style.use('ggplot')\n",
    "import seaborn as sns; sns.set()\n",
    "from scipy import stats\n",
    "from statsmodels.sandbox.stats.multicomp import multipletests"
   ]
  },
  {
   "cell_type": "code",
   "execution_count": 2,
   "metadata": {},
   "outputs": [],
   "source": [
    "def permutation(y_1, y_2, B, alter, target):\n",
    "    if target == 'mean':\n",
    "        t_orig = np.mean(y_1) - np.mean(y_2)\n",
    "    else:\n",
    "        t_orig = np.std(y_1) - np.std(y_2)\n",
    "    y = y_1 + y_2\n",
    "    y_sample_len = int(len(y) / 2)\n",
    "    #  perform permutation B times\n",
    "    greater_count = 0\n",
    "    less_count = 0\n",
    "    equal_count = 0\n",
    "    y_all = np.random.choice(y, size=len(y), replace=False, p=None)\n",
    "    for _ in range(B):\n",
    "        y_1_sample = y_all[:y_sample_len]\n",
    "        y_2_sample = y_all[y_sample_len:]\n",
    "        if target == 'mean':\n",
    "            t_star = np.mean(y_1_sample) - np.mean(y_2_sample)\n",
    "        else:\n",
    "            t_star = np.std(y_1_sample) - np.std(y_2_sample)\n",
    "        if  t_star >= abs(t_orig):\n",
    "            equal_count += 1\n",
    "        if t_star > t_orig:\n",
    "            greater_count += 1\n",
    "        elif t_star < t_orig:\n",
    "            less_count += 1\n",
    "    if alter == 'not.equal':\n",
    "        return equal_count / B\n",
    "\n",
    "    elif alter == 'less.than':\n",
    "        return less_count / B\n",
    "\n",
    "    else:\n",
    "        return greater_count / B\n"
   ]
  },
  {
   "cell_type": "markdown",
   "metadata": {},
   "source": [
    "(b) Simulate two samples as normal random variables with means μ1 and μ2 and variances σ12,σ2, respectively, where the parameters are set as the following:  \n",
    " i. μ1 =μ2 + δ for μ2 = 0 and δ = 0, .5, 1, 2 when σ 12 = σ2 = 1.   \n",
    " ii. σ12 = σ2 + δ for σ2 = 1, and δ = 0, .5, 1, 2 when μ1 = μ2 = 0  "
   ]
  },
  {
   "cell_type": "code",
   "execution_count": 3,
   "metadata": {},
   "outputs": [
    {
     "name": "stdout",
     "output_type": "stream",
     "text": [
      "               Delta = 0\n",
      "=====================B = 10=======================\n",
      "p mean: 1.0, p std: 0.0\n",
      "=====================B = 100=======================\n",
      "p mean: 0.0, p std: 1.0\n",
      "=====================B = 1000=======================\n",
      "p mean: 1.0, p std: 0.0\n",
      "               Delta = 0.5\n",
      "=====================B = 10=======================\n",
      "p mean: 0.0, p std: 0.0\n",
      "=====================B = 100=======================\n",
      "p mean: 0.0, p std: 0.0\n",
      "=====================B = 1000=======================\n",
      "p mean: 0.0, p std: 0.0\n",
      "               Delta = 1\n",
      "=====================B = 10=======================\n",
      "p mean: 0.0, p std: 0.0\n",
      "=====================B = 100=======================\n",
      "p mean: 0.0, p std: 0.0\n",
      "=====================B = 1000=======================\n",
      "p mean: 0.0, p std: 0.0\n",
      "               Delta = 2\n",
      "=====================B = 10=======================\n",
      "p mean: 0.0, p std: 0.0\n",
      "=====================B = 100=======================\n",
      "p mean: 0.0, p std: 0.0\n",
      "=====================B = 1000=======================\n",
      "p mean: 0.0, p std: 0.0\n"
     ]
    }
   ],
   "source": [
    "# mu_1, sigma_1 = 0, 1  # mean and standard deviation for y_1\n",
    "mu_2, sigma_2 = 0, 1  # mean and standard deviation for y_2\n",
    "delta = [0, 0.5, 1, 2]\n",
    "p_mean = []\n",
    "p_std = []\n",
    "B_s = []\n",
    "delta_s = []\n",
    "for d in delta:\n",
    "    print(f'               Delta = {d}') \n",
    "    y_1 = np.random.normal(mu_2 + d, sigma_2 + d, 10000)\n",
    "    y_2 = np.random.normal(mu_2, sigma_2, 10000)\n",
    "    for B in [10, 100, 1000]:\n",
    "        print(f'=====================B = {B}=======================')\n",
    "        pmean = permutation(y_1, y_2, B, 'not.equal', 'mean')\n",
    "        pstd = permutation(y_1, y_2, B, 'not.equal', 'std')\n",
    "        print(f'p mean: {pmean}, p std: {pstd}')\n",
    "        p_mean.append(pmean)\n",
    "        p_std.append(pstd)\n",
    "        B_s.append(B)\n",
    "        delta_s.append(d)"
   ]
  },
  {
   "cell_type": "code",
   "execution_count": 4,
   "metadata": {},
   "outputs": [
    {
     "data": {
      "text/html": [
       "<div>\n",
       "<style scoped>\n",
       "    .dataframe tbody tr th:only-of-type {\n",
       "        vertical-align: middle;\n",
       "    }\n",
       "\n",
       "    .dataframe tbody tr th {\n",
       "        vertical-align: top;\n",
       "    }\n",
       "\n",
       "    .dataframe thead th {\n",
       "        text-align: right;\n",
       "    }\n",
       "</style>\n",
       "<table border=\"1\" class=\"dataframe\">\n",
       "  <thead>\n",
       "    <tr style=\"text-align: right;\">\n",
       "      <th></th>\n",
       "      <th>B</th>\n",
       "      <th>delta</th>\n",
       "      <th>p_mean</th>\n",
       "      <th>p_std</th>\n",
       "    </tr>\n",
       "  </thead>\n",
       "  <tbody>\n",
       "    <tr>\n",
       "      <th>0</th>\n",
       "      <td>10</td>\n",
       "      <td>0.0</td>\n",
       "      <td>1.0</td>\n",
       "      <td>0.0</td>\n",
       "    </tr>\n",
       "    <tr>\n",
       "      <th>1</th>\n",
       "      <td>100</td>\n",
       "      <td>0.0</td>\n",
       "      <td>0.0</td>\n",
       "      <td>1.0</td>\n",
       "    </tr>\n",
       "    <tr>\n",
       "      <th>2</th>\n",
       "      <td>1000</td>\n",
       "      <td>0.0</td>\n",
       "      <td>1.0</td>\n",
       "      <td>0.0</td>\n",
       "    </tr>\n",
       "    <tr>\n",
       "      <th>3</th>\n",
       "      <td>10</td>\n",
       "      <td>0.5</td>\n",
       "      <td>0.0</td>\n",
       "      <td>0.0</td>\n",
       "    </tr>\n",
       "    <tr>\n",
       "      <th>4</th>\n",
       "      <td>100</td>\n",
       "      <td>0.5</td>\n",
       "      <td>0.0</td>\n",
       "      <td>0.0</td>\n",
       "    </tr>\n",
       "    <tr>\n",
       "      <th>5</th>\n",
       "      <td>1000</td>\n",
       "      <td>0.5</td>\n",
       "      <td>0.0</td>\n",
       "      <td>0.0</td>\n",
       "    </tr>\n",
       "    <tr>\n",
       "      <th>6</th>\n",
       "      <td>10</td>\n",
       "      <td>1.0</td>\n",
       "      <td>0.0</td>\n",
       "      <td>0.0</td>\n",
       "    </tr>\n",
       "    <tr>\n",
       "      <th>7</th>\n",
       "      <td>100</td>\n",
       "      <td>1.0</td>\n",
       "      <td>0.0</td>\n",
       "      <td>0.0</td>\n",
       "    </tr>\n",
       "    <tr>\n",
       "      <th>8</th>\n",
       "      <td>1000</td>\n",
       "      <td>1.0</td>\n",
       "      <td>0.0</td>\n",
       "      <td>0.0</td>\n",
       "    </tr>\n",
       "    <tr>\n",
       "      <th>9</th>\n",
       "      <td>10</td>\n",
       "      <td>2.0</td>\n",
       "      <td>0.0</td>\n",
       "      <td>0.0</td>\n",
       "    </tr>\n",
       "    <tr>\n",
       "      <th>10</th>\n",
       "      <td>100</td>\n",
       "      <td>2.0</td>\n",
       "      <td>0.0</td>\n",
       "      <td>0.0</td>\n",
       "    </tr>\n",
       "    <tr>\n",
       "      <th>11</th>\n",
       "      <td>1000</td>\n",
       "      <td>2.0</td>\n",
       "      <td>0.0</td>\n",
       "      <td>0.0</td>\n",
       "    </tr>\n",
       "  </tbody>\n",
       "</table>\n",
       "</div>"
      ],
      "text/plain": [
       "       B  delta  p_mean  p_std\n",
       "0     10    0.0     1.0    0.0\n",
       "1    100    0.0     0.0    1.0\n",
       "2   1000    0.0     1.0    0.0\n",
       "3     10    0.5     0.0    0.0\n",
       "4    100    0.5     0.0    0.0\n",
       "5   1000    0.5     0.0    0.0\n",
       "6     10    1.0     0.0    0.0\n",
       "7    100    1.0     0.0    0.0\n",
       "8   1000    1.0     0.0    0.0\n",
       "9     10    2.0     0.0    0.0\n",
       "10   100    2.0     0.0    0.0\n",
       "11  1000    2.0     0.0    0.0"
      ]
     },
     "execution_count": 4,
     "metadata": {},
     "output_type": "execute_result"
    }
   ],
   "source": [
    "p_values = pd.DataFrame({'B' : B_s,\n",
    "              'delta': delta_s,\n",
    "              'p_mean': p_mean,\n",
    "              'p_std': p_std,\n",
    "})\n",
    "p_values"
   ]
  },
  {
   "cell_type": "code",
   "execution_count": 5,
   "metadata": {},
   "outputs": [
    {
     "data": {
      "image/png": "[encoded data removed]",
      "text/plain": [
       "<Figure size 432x288 with 1 Axes>"
      ]
     },
     "metadata": {
      "needs_background": "light"
     },
     "output_type": "display_data"
    }
   ],
   "source": [
    "ax = sns.lineplot(x=\"B\", y=\"p_mean\", data=p_values)"
   ]
  },
  {
   "cell_type": "code",
   "execution_count": 6,
   "metadata": {},
   "outputs": [
    {
     "data": {
      "image/png": "[encoded data removed]",
      "text/plain": [
       "<Figure size 432x288 with 1 Axes>"
      ]
     },
     "metadata": {
      "needs_background": "light"
     },
     "output_type": "display_data"
    }
   ],
   "source": [
    "ax = sns.lineplot(x=\"B\", y=\"p_std\", data=p_values)"
   ]
  },
  {
   "cell_type": "markdown",
   "metadata": {},
   "source": [
    "* We can see that with permutation, increasing the number of times of permutation, the p-values in all goes all the way down, as long as we have a non-trivial effect size."
   ]
  },
  {
   "cell_type": "markdown",
   "metadata": {},
   "source": [
    "## Sample Size Calculator\n",
    "If we are testing differences of means or proportions, it is possible to calculate the power of the test that we run when comparing two conditions. \n",
    "In general, the power of a test depends on the following components:  \n",
    "• effect size δ: the difference in mean or proportion   \n",
    "• sample size of each group n1 and n2  \n",
    "• significance level α  "
   ]
  },
  {
   "cell_type": "markdown",
   "metadata": {},
   "source": [
    "Hence, we can define sample size calculators, depends on whether we're testing the proportion or not, as below:"
   ]
  },
  {
   "cell_type": "code",
   "execution_count": 7,
   "metadata": {},
   "outputs": [],
   "source": [
    "def samplesize(alpha, effect_size, k, var, power, alt):\n",
    "    if alt == 'not.equal':\n",
    "        z_alpha = stats.norm.ppf(alpha / 2)\n",
    "    else:\n",
    "        z_alpha = stats.norm.ppf(alpha)\n",
    "    z_beta = stats.norm.ppf(power)\n",
    "    n2 = ((1 / k) + 1) * var * ((z_alpha - z_beta) ** 2) / (effect_size ** 2) \n",
    "    n1 = k * n2\n",
    "    return round(n1), round(n2)"
   ]
  },
  {
   "cell_type": "code",
   "execution_count": 8,
   "metadata": {},
   "outputs": [],
   "source": [
    "def samplesize_pro(alpha, effect_size, k, power, pi_1, pi_2, alt):\n",
    "    if alt == 'not.equal':\n",
    "        z_alpha = stats.norm.ppf(alpha / 2)\n",
    "    else:\n",
    "        z_alpha = stats.norm.ppf(alpha)\n",
    "    z_beta = stats.norm.ppf(power)\n",
    "    var_p1 = pi_1 * (1 - pi_1)\n",
    "    var_p2 = pi_2 * (1 - pi_2)\n",
    "    n2 = ((var_p1 / k) + var_p2) * ((z_alpha - z_beta) ** 2) / (effect_size ** 2) \n",
    "    n1 = k * n2\n",
    "    return round(n1, 1), round(n2, 1)"
   ]
  },
  {
   "cell_type": "markdown",
   "metadata": {},
   "source": [
    "For example, the sample size needed in a comparison of means with α = 0.05 when we want to detect an effect size of 0.10 with a power of 0.80(assuming variance=1), is simply:\n"
   ]
  },
  {
   "cell_type": "code",
   "execution_count": 9,
   "metadata": {},
   "outputs": [
    {
     "name": "stdout",
     "output_type": "stream",
     "text": [
      "(1570.0, 1570.0)\n"
     ]
    }
   ],
   "source": [
    "print(samplesize(0.05, 0.1, 1, 1, 0.8, 'not.equal'))"
   ]
  },
  {
   "cell_type": "markdown",
   "metadata": {},
   "source": [
    "We can also write a function to calculate the power for each of the above tests which depend on α, n2, k, σ2 and the desired effect size δ"
   ]
  },
  {
   "cell_type": "code",
   "execution_count": 10,
   "metadata": {},
   "outputs": [],
   "source": [
    "def power_cal(alpha, n2, k, var, effect_size, alt, pi_1):\n",
    "    if alt == 'not.equal':\n",
    "        z_alpha = stats.norm.ppf(1 - alpha / 2)\n",
    "    else:\n",
    "        z_alpha = stats.norm.ppf(1 - alpha)\n",
    "    n1 = k * n2\n",
    "    pi_2 = pi_1 + effect_size\n",
    "    var_p1 = pi_1 * (1 - pi_1)\n",
    "    var_p2 = pi_2 * (1 - pi_2)\n",
    "    threshold = z_alpha - (effect_size / np.sqrt(var_p1 / n1 +\\\n",
    "                          var_p2 / n2))\n",
    "    return 1 - stats.norm.cdf(threshold)"
   ]
  },
  {
   "cell_type": "code",
   "execution_count": 11,
   "metadata": {},
   "outputs": [],
   "source": [
    "def power_cal_proportion(alpha, n2, k, pi_1, pi_2, delta, alternative):\n",
    "    \"\"\"function to calculate power for a comparison of proportions\"\"\"\n",
    "    # calculate z value for alpha or alpha/2\n",
    "    if alternative == 'not.equal':\n",
    "        z_alpha = stats.norm.ppf(1 - alpha / 2)\n",
    "    if alternative == 'greater.than':\n",
    "        z_alpha = stats.norm.ppf(1 - alpha)\n",
    "    if alternative == 'less.than':\n",
    "        z_alpha = stats.norm.ppf(alpha)\n",
    "    # calculate z statistic\n",
    "    n1 = k * n2\n",
    "    z_stat = z_alpha - delta / (np.sqrt(pi_1 * (1 - pi_1) / n1 + pi_2 * (1 - pi_2) / n2))\n",
    "    power = 1 - stats.norm.cdf(z_stat)\n",
    "    return power"
   ]
  },
  {
   "cell_type": "code",
   "execution_count": 12,
   "metadata": {},
   "outputs": [
    {
     "data": {
      "text/plain": [
       "0.5159677934423318"
      ]
     },
     "execution_count": 12,
     "metadata": {},
     "output_type": "execute_result"
    }
   ],
   "source": [
    "power_cal(0.05, 30, 1, 1, 0.2, 'not.equal', 0.1)"
   ]
  },
  {
   "cell_type": "markdown",
   "metadata": {},
   "source": [
    "We can thus plot the power of the comparison of equality of proportions   \n",
    "when δ ranges from 0.10 to 0.90 in increments of 0.10, n2 =30, k=1, π1 =0.1, and π2 = π1 + δ."
   ]
  },
  {
   "cell_type": "code",
   "execution_count": 13,
   "metadata": {},
   "outputs": [],
   "source": [
    "powers = []\n",
    "e_size = []\n",
    "for effect_size in np.arange(0.1, 1, 0.1):\n",
    "    powers.append(power_cal(0.05, 30, 1, 1, effect_size, 'not.equal', 0.1))\n",
    "    e_size.append(effect_size)"
   ]
  },
  {
   "cell_type": "code",
   "execution_count": 14,
   "metadata": {},
   "outputs": [
    {
     "data": {
      "image/png": "[encoded data removed]",
      "text/plain": [
       "<Figure size 432x288 with 1 Axes>"
      ]
     },
     "metadata": {
      "needs_background": "light"
     },
     "output_type": "display_data"
    }
   ],
   "source": [
    "power_df = pd.DataFrame({'power': powers,\n",
    "                        'size': e_size})\n",
    "ax = sns.lineplot(x=\"size\", y=\"power\", data=power_df)"
   ]
  },
  {
   "cell_type": "markdown",
   "metadata": {},
   "source": [
    "* We can clearly see that when effect size increases, power increases."
   ]
  },
  {
   "cell_type": "markdown",
   "metadata": {},
   "source": [
    "# Bonferroni Correction and Benjamin-Hochberg Procedure\n",
    "We will implement and calculate the power of the test for multiple comparisons. The function/calculators here could be used on experiment platforms! "
   ]
  },
  {
   "cell_type": "code",
   "execution_count": 24,
   "metadata": {},
   "outputs": [],
   "source": [
    "m = 1000\n",
    "alpha = 0.05\n",
    "\n",
    "def corrections(alpha, m, method='bon', p_vals=None):\n",
    "    p_values = np.array(p_vals)\n",
    "    p_adjusted = []\n",
    "    if method != 'bon':\n",
    "        for i in range(m):\n",
    "            p_adjusted.append(i * alpha / m)\n",
    "    else:\n",
    "        p_adjusted = [alpha / m for _ in range(m)]      \n",
    "    return p_adjusted\n"
   ]
  },
  {
   "cell_type": "code",
   "execution_count": 38,
   "metadata": {},
   "outputs": [],
   "source": [
    "def power_cal(m, n2, k, var, effect_size, alpha=0.05, p_vals=None):\n",
    "    p_adjusted = corrections(alpha, m, 'bh', p_vals)\n",
    "    powers = []\n",
    "    for p in p_adjusted:\n",
    "        power = power_cal(p, n2, k, var, effect_size, 'not.equal', 0.1)\n",
    "        powers.append(power)\n",
    "    return powers"
   ]
  },
  {
   "cell_type": "markdown",
   "metadata": {},
   "source": [
    "Suppose now we have 100 independent tests of means, we set α=0.05 and have n2 = 30, σ2 = 1 and k=1.     \n",
    "Furthermore suppose that we would like to detect an effect size of δ = 0.25 in each test.   "
   ]
  },
  {
   "cell_type": "code",
   "execution_count": 41,
   "metadata": {},
   "outputs": [],
   "source": [
    "p_vals = np.random.uniform(0,1,100)\n",
    "bh_powers = bh_power_cal(100, 30, 1, 1, 0.25, alpha=0.05, p_vals=p_vals)"
   ]
  },
  {
   "cell_type": "code",
   "execution_count": 47,
   "metadata": {},
   "outputs": [
    {
     "data": {
      "image/png": "[encoded data removed]",
      "text/plain": [
       "<Figure size 720x576 with 1 Axes>"
      ]
     },
     "metadata": {
      "needs_background": "light"
     },
     "output_type": "display_data"
    }
   ],
   "source": [
    "plt.figure(figsize=(10,8))\n",
    "plt.plot(x=\"p_rank\", y=\"bh_powers\")\n",
    "plt.title(\"Power vs. Rank\")\n",
    "plt.xlabel('rank')\n",
    "plt.ylabel('power');"
   ]
  },
  {
   "cell_type": "markdown",
   "metadata": {},
   "source": [
    "* We can see clearly that when the rank of p goes up(toward no-correction), the power of the test goes up as well."
   ]
  },
  {
   "cell_type": "code",
   "execution_count": null,
   "metadata": {},
   "outputs": [],
   "source": []
  }
 ],
 "metadata": {
  "kernelspec": {
   "display_name": "Python 3",
   "language": "python",
   "name": "python3"
  },
  "language_info": {
   "codemirror_mode": {
    "name": "ipython",
    "version": 3
   },
   "file_extension": ".py",
   "mimetype": "text/x-python",
   "name": "python",
   "nbconvert_exporter": "python",
   "pygments_lexer": "ipython3",
   "version": "3.7.2"
  }
 },
 "nbformat": 4,
 "nbformat_minor": 2
}
