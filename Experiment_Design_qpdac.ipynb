{
 "cells": [
  {
   "cell_type": "markdown",
   "metadata": {},
   "source": [
    "#  An Experiment From Scratch: using QPDAC\n",
    "## Question, Plan, Data, Analysis, Conclusion\n",
    "To go through a complete pipeline of experiment design, we first raise a question; plan the metrics and conditions we would like to study; collect the data; conduct an analysis; come to a conclusion.  \n",
    "In this notebook I will design an experiment from scratch -- from raising a random question: *Does Google show marketplace pages in both normal and cognito mode?*\n"
   ]
  },
  {
   "cell_type": "markdown",
   "metadata": {},
   "source": [
    "The metric we use here is simply a binary variable indicating whether the result page from Google Search shows marketplace pages. We shall run an experiment to decide if two modes are the same.   \n",
    "The components of the designed experiment are listed below:  "
   ]
  },
  {
   "cell_type": "markdown",
   "metadata": {},
   "source": [
    "* Factors: viewer modes  \n",
    "* Levels: standard, incognito\n",
    "* Conditions: {normal mode, incognito mode}"
   ]
  },
  {
   "cell_type": "markdown",
   "metadata": {},
   "source": [
    "The way we collect the data is intuitive:"
   ]
  },
  {
   "cell_type": "markdown",
   "metadata": {},
   "source": [
    "* Google search 37 common outwears(listed in \"common outwear\" page in Wikipedia) and record if the result page has marketplaces for the searched item\n",
    "* Perform t-test on the difference of probabilities of two modes seeing marketplaces in the result page"
   ]
  },
  {
   "cell_type": "markdown",
   "metadata": {},
   "source": [
    "**37 Common Outwears used as search keyword**    \n",
    "*Abaya, Academic gown, Anorak, Apron, Blazer, Cagoule, Cloak, Coat, Duffle coat, Duster, Frock coat, Gilet, Goggle jacket, Greatcoat, Hat, Hoodie, Jacket, Leather jacket, Matchcoat, Mess jacket, Opera coat, Overcoat, Pea coat, Poncho, Raincoat, Rain, pants, Redingote, Robe, Shawl, Shrug, Ski suit, Sleeved blanket, Sport coat, Top coat, Touque, Trench coat, Windbreaker*"
   ]
  },
  {
   "cell_type": "markdown",
   "metadata": {},
   "source": [
    "State a hypothesis tests "
   ]
  },
  {
   "cell_type": "markdown",
   "metadata": {},
   "source": [
    "$H_0$ : $p_1$ - $p_2$ = 0, the probabilities of seeing marketplaces in the result page when searching common outwears are the same for normal and incognito mode.  \n",
    "$H_1$ : $p_1$ - $p_2$ $\\neq$ 0, the probabilities of seeing marketplaces in the result page when searching common outwears are not the same for normal and incognito mode."
   ]
  },
  {
   "cell_type": "markdown",
   "metadata": {},
   "source": [
    "Calculate the p-value and power of the test and make a decision"
   ]
  },
  {
   "cell_type": "code",
   "execution_count": 15,
   "metadata": {},
   "outputs": [],
   "source": [
    "import pandas as pd\n",
    "import scipy\n",
    "import math\n",
    "data = pd.read_csv('expdes_hw1_data.csv')"
   ]
  },
  {
   "cell_type": "code",
   "execution_count": 16,
   "metadata": {},
   "outputs": [
    {
     "data": {
      "text/plain": [
       "count    38.000000\n",
       "mean     -0.368421\n",
       "std       0.589138\n",
       "min      -1.000000\n",
       "25%      -1.000000\n",
       "50%       0.000000\n",
       "75%       0.000000\n",
       "max       1.000000\n",
       "Name: diff, dtype: float64"
      ]
     },
     "execution_count": 16,
     "metadata": {},
     "output_type": "execute_result"
    }
   ],
   "source": [
    "p_inco = data['incognito'].mean()\n",
    "p_normal = data['normal'].mean()\n",
    "data['diff'] = data['incognito'] - data['normal']\n",
    "delta_mean = data['diff'].mean()\n",
    "data['diff'].describe()"
   ]
  },
  {
   "cell_type": "code",
   "execution_count": 29,
   "metadata": {},
   "outputs": [
    {
     "name": "stdout",
     "output_type": "stream",
     "text": [
      "z-score = 3.9619401430321615\n",
      "p value = 7.434318057386893e-05\n"
     ]
    }
   ],
   "source": [
    "p_s = data['normal'].mean()\n",
    "p_i = data['incognito'].mean()\n",
    "p = (37 * p_s + 37 * p_i) / 74\n",
    "z_score = (p_s - p_i) / math.sqrt((p_s * (1 - p_s) / 37) + ( p_i * (1 - p_i) / 37))\n",
    "print(f'z-score = {z_score}')\n",
    "p_value = scipy.stats.norm.sf(abs(z_score)) * 2\n",
    "print(f'p value = {p_value}')"
   ]
  },
  {
   "cell_type": "code",
   "execution_count": 33,
   "metadata": {},
   "outputs": [
    {
     "name": "stdout",
     "output_type": "stream",
     "text": [
      "power = 0.18199289931673834\n"
     ]
    }
   ],
   "source": [
    "CO = 1.96\n",
    "delta = 0.368421\n",
    "sigma = 0.589138\n",
    "power = 2 * (1 - scipy.stats.norm(0, 1).cdf(CO - (delta / sigma)))\n",
    "print(f'power = {power}') "
   ]
  },
  {
   "cell_type": "markdown",
   "metadata": {},
   "source": [
    "* P Value = 0.00007\n",
    "* Power = 0.18  \n",
    "* Given such significant P value and such low power, I would rather be more conservative and still conclude that there's no difference in search result pages from incognito mode or normal mode. Increasing number of observations might help.  "
   ]
  },
  {
   "cell_type": "code",
   "execution_count": null,
   "metadata": {},
   "outputs": [],
   "source": []
  }
 ],
 "metadata": {
  "kernelspec": {
   "display_name": "Python 3",
   "language": "python",
   "name": "python3"
  },
  "language_info": {
   "codemirror_mode": {
    "name": "ipython",
    "version": 3
   },
   "file_extension": ".py",
   "mimetype": "text/x-python",
   "name": "python",
   "nbconvert_exporter": "python",
   "pygments_lexer": "ipython3",
   "version": "3.7.2"
  }
 },
 "nbformat": 4,
 "nbformat_minor": 2
}
